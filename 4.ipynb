{
 "cells": [
  {
   "cell_type": "markdown",
   "metadata": {},
   "source": [
    "# Variable Names\n",
    "\n",
    "A variable can have a short name (like `x` and `y`) or a more descriptive name (`age`, `carname`, `total_volume`).\n",
    "\n",
    "## Rules for Python variables:\n",
    "\n",
    "- A variable name must start with a letter or the underscore character.\n",
    "- A variable name cannot start with a number.\n",
    "- A variable name can only contain alpha-numeric characters and underscores (`A-z`, `0-9`, and `_`).\n",
    "- Variable names are case-sensitive (`age`, `Age`, and `AGE` are three different variables).\n",
    "- A variable name cannot be any of the Python keywords.\n",
    "\n",
    "Example:\n",
    "\n",
    "```python\n",
    "# Legal variable names:\n",
    "\n",
    "myvar = \"John\"\n",
    "my_var = \"John\"\n",
    "_my_var = \"John\"\n",
    "myVar = \"John\"\n",
    "MYVAR = \"John\"\n",
    "myvar2 = \"John\"\n",
    "\n",
    "# Illegal variable names:\n",
    "\n",
    "2myvar = \"John\"\n",
    "my-var = \"John\"\n",
    "my var = \"John\"\n",
    "```\n",
    "\n",
    "Remember that variable names are case-sensitive.\n",
    "\n",
    "## Multi Words Variable Names\n",
    "\n",
    "Variable names with more than one word can be difficult to read.\n",
    "\n",
    "There are several techniques you can use to make them more readable:\n",
    "\n",
    "### Camel Case\n",
    "\n",
    "Each word, except the first, starts with a capital letter:\n",
    "\n",
    "```python\n",
    "myVariableName = \"John\"\n",
    "```\n",
    "\n",
    "### Pascal Case\n",
    "\n",
    "Each word starts with a capital letter:\n",
    "\n",
    "```python\n",
    "MyVariableName = \"John\"\n",
    "```\n",
    "\n",
    "### Snake Case\n",
    "\n",
    "Each word is separated by an underscore character:\n",
    "\n",
    "```python\n",
    "my_variable_name = \"John\"\n",
    "```\n"
   ]
  },
  {
   "cell_type": "code",
   "execution_count": null,
   "metadata": {},
   "outputs": [],
   "source": []
  }
 ],
 "metadata": {
  "kernelspec": {
   "display_name": "Python 3",
   "name": "python3"
  },
  "language_info": {
   "codemirror_mode": {
    "name": "ipython",
    "version": 3
   },
   "file_extension": ".py",
   "mimetype": "text/x-python",
   "name": "python",
   "nbconvert_exporter": "python",
   "pygments_lexer": "ipython3",
   "version": "3.10.0"
  }
 },
 "nbformat": 4,
 "nbformat_minor": 5
}
