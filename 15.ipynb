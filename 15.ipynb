{
 "cells": [
  {
   "cell_type": "markdown",
   "metadata": {},
   "source": [
    "# String Format\n",
    "\n",
    "As we learned in the Python Variables chapter, we cannot combine strings and numbers like this:\n",
    "\n",
    "## Example\n",
    "\n",
    "```python\n",
    "age = 36\n",
    "txt = \"My name is John, I am \" + age\n",
    "print(txt)\n",
    "```\n",
    "\n",
    "But we can combine strings and numbers by using the format() method!\n",
    "\n",
    "The format() method takes the passed arguments, formats them, and places them in the string where the placeholders {} are:\n",
    "\n",
    "## Example\n",
    "\n",
    "```python\n",
    "age = 36\n",
    "txt = \"My name is John, and I am {}\"\n",
    "print(txt.format(age))\n",
    "```\n",
    "\n",
    "The format() method takes unlimited number of arguments, and are placed into the respective placeholders:\n",
    "\n",
    "## Example\n",
    "\n",
    "```python\n",
    "quantity = 3\n",
    "itemno = 567\n",
    "price = 49.95\n",
    "myorder = \"I want {} pieces of item {} for {} dollars.\"\n",
    "print(myorder.format(quantity, itemno, price))\n",
    "```\n",
    "\n",
    "You can use index numbers {0} to be sure the arguments are placed in the correct placeholders:\n",
    "\n",
    "## Example\n",
    "\n",
    "```python\n",
    "quantity = 3\n",
    "itemno = 567\n",
    "price = 49.95\n",
    "myorder = \"I want to pay {2} dollars for {0} pieces of item {1}.\"\n",
    "print(myorder.format(quantity, itemno, price))\n",
    "```\n"
   ]
  },
  {
   "cell_type": "code",
   "execution_count": null,
   "metadata": {},
   "outputs": [],
   "source": []
  }
 ],
 "metadata": {
  "kernelspec": {
   "display_name": "Python 3",
   "name": "python3"
  },
  "language_info": {
   "codemirror_mode": {
    "name": "ipython",
    "version": 3
   },
   "file_extension": ".py",
   "mimetype": "text/x-python",
   "name": "python",
   "nbconvert_exporter": "python",
   "pygments_lexer": "ipython3",
   "version": "3.10.0"
  }
 },
 "nbformat": 4,
 "nbformat_minor": 5
}
