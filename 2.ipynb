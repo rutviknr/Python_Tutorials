{
 "cells": [
  {
   "cell_type": "markdown",
   "metadata": {},
   "source": [
    "# Python Comments\n",
    "\n",
    "Comments can be used to explain Python code.\n",
    "\n",
    "Comments can be used to make the code more readable.\n",
    "\n",
    "Comments can be used to prevent execution when testing code.\n",
    "\n",
    "## Creating a Comment\n",
    "\n",
    "Comments start with a `#`, and Python will ignore them:\n",
    "\n",
    "```python\n",
    "# This is a comment\n",
    "print(\"Hello, World!\")\n",
    "```\n",
    "\n",
    "Comments can be placed at the end of a line, and Python will ignore the rest of the line:\n",
    "\n",
    "```python\n",
    "print(\"Hello, World!\") # This is a comment\n",
    "```\n",
    "\n",
    "A comment does not have to be text that explains the code; it can also be used to prevent Python from executing code:\n",
    "\n",
    "```python\n",
    "# print(\"Hello, World!\")\n",
    "print(\"Cheers, Mate!\")\n",
    "```\n",
    "\n",
    "## Multiline Comments\n",
    "\n",
    "Python does not have a specific syntax for multiline comments. However, you can use either multiple `#` on separate lines or a multiline string to achieve a similar effect.\n",
    "\n",
    "Using multiple `#`:\n",
    "\n",
    "```python\n",
    "# This is a comment\n",
    "# written in\n",
    "# more than just one line\n",
    "print(\"Hello, World!\")\n",
    "```\n",
    "\n",
    "Using a multiline string:\n",
    "\n",
    "```python\n",
    "\"\"\"\n",
    "This is a comment\n",
    "written in\n",
    "more than just one line\n",
    "\"\"\"\n",
    "print(\"Hello, World!\")\n",
    "```\n"
   ]
  },
  {
   "cell_type": "code",
   "execution_count": null,
   "metadata": {},
   "outputs": [],
   "source": []
  }
 ],
 "metadata": {
  "kernelspec": {
   "display_name": "Python 3",
   "name": "python3"
  },
  "language_info": {
   "codemirror_mode": {
    "name": "ipython",
    "version": 3
   },
   "file_extension": ".py",
   "mimetype": "text/x-python",
   "name": "python",
   "nbconvert_exporter": "python",
   "pygments_lexer": "ipython3",
   "version": "3.10.0"
  }
 },
 "nbformat": 4,
 "nbformat_minor": 5
}
