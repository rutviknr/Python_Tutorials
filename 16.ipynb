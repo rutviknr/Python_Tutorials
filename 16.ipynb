{
 "cells": [
  {
   "cell_type": "markdown",
   "metadata": {},
   "source": [
    "# Escape Character\n",
    "\n",
    "To insert characters that are illegal in a string, use an escape character.\n",
    "\n",
    "An escape character is a backslash \\ followed by the character you want to insert.\n",
    "\n",
    "An example of an illegal character is a double quote inside a string that is surrounded by double quotes:\n",
    "\n",
    "## Example\n",
    "\n",
    "```python\n",
    "txt = \"We are the so-called \"Vikings\" from the north.\"\n",
    "```\n",
    "\n",
    "You will get an error if you use double quotes inside a string that is surrounded by double quotes.\n",
    "\n",
    "To fix this problem, use the escape character \\\":\n",
    "\n",
    "## Example\n",
    "\n",
    "```python\n",
    "txt = \"We are the so-called \\\"Vikings\\\" from the north.\"\n",
    "```\n",
    "\n",
    "Escape Characters\n",
    "Other escape characters used in Python:\n",
    "\n",
    "| Code | Result |           |\n",
    "|------|--------|-----------|\n",
    "| \'    | Single Quote |           |\n",
    "| \\    | Backslash |           |\n",
    "| \\n   | New Line |           |\n",
    "| \\r   | Carriage Return |           |\n",
    "| \\t   | Tab |           |\n",
    "| \\b   | Backspace |           |\n",
    "| \\f   | Form Feed |           |\n",
    "| \\ooo | Octal value | (Replace ooo with the octal value) |\n",
    "| \\xhh | Hex value | (Replace hh with the hex value) |"
   ]
  },
  {
   "cell_type": "code",
   "execution_count": null,
   "metadata": {},
   "outputs": [],
   "source": []
  }
 ],
 "metadata": {
  "kernelspec": {
   "display_name": "Python 3",
   "name": "python3"
  },
  "language_info": {
   "codemirror_mode": {
    "name": "ipython",
    "version": 3
   },
   "file_extension": ".py",
   "mimetype": "text/x-python",
   "name": "python",
   "nbconvert_exporter": "python",
   "pygments_lexer": "ipython3",
   "version": "3.10.0"
  }
 },
 "nbformat": 4,
 "nbformat_minor": 5
}
