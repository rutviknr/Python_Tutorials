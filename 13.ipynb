{
 "cells": [
  {
   "cell_type": "markdown",
   "metadata": {},
   "source": [
    "# String Methods\n",
    "\n",
    "Python has a set of built-in methods that you can use on strings.\n",
    "\n",
    "## Upper Case\n",
    "\n",
    "Example:\n",
    "\n",
    "```python\n",
    "a = \"Hello, World!\"\n",
    "print(a.upper())\n",
    "```\n",
    "\n",
    "## Lower Case\n",
    "\n",
    "Example:\n",
    "\n",
    "```python\n",
    "a = \"Hello, World!\"\n",
    "print(a.lower())\n",
    "```\n",
    "\n",
    "## Remove Whitespace\n",
    "\n",
    "Whitespace is the space before and/or after the actual text, and very often you want to remove this space.\n",
    "\n",
    "Example:\n",
    "\n",
    "The strip() method removes any whitespace from the beginning or the end:\n",
    "\n",
    "```python\n",
    "a = \" Hello, World! \"\n",
    "print(a.strip()) # returns \"Hello, World!\"\n",
    "```\n",
    "\n",
    "## Replace String\n",
    "\n",
    "Example:\n",
    "\n",
    "The replace() method replaces a string with another string:\n",
    "\n",
    "```python\n",
    "a = \"Hello, World!\"\n",
    "print(a.replace(\"H\", \"J\"))\n",
    "```\n",
    "\n",
    "## Split String\n",
    "\n",
    "The split() method returns a list where the text between the specified separator becomes the list items.\n",
    "\n",
    "Example:\n",
    "\n",
    "The split() method splits the string into substrings if it finds instances of the separator:\n",
    "\n",
    "```python\n",
    "a = \"Hello, World!\"\n",
    "print(a.split(\",\")) # returns ['Hello', ' World!']\n",
    "```\n"
   ]
  },
  {
   "cell_type": "code",
   "execution_count": null,
   "metadata": {},
   "outputs": [],
   "source": []
  }
 ],
 "metadata": {
  "kernelspec": {
   "display_name": "Python 3",
   "name": "python3"
  },
  "language_info": {
   "codemirror_mode": {
    "name": "ipython",
    "version": 3
   },
   "file_extension": ".py",
   "mimetype": "text/x-python",
   "name": "python",
   "nbconvert_exporter": "python",
   "pygments_lexer": "ipython3",
   "version": "3.10.0"
  }
 },
 "nbformat": 4,
 "nbformat_minor": 5
}
