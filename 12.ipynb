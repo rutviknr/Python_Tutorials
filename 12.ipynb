{
 "cells": [
  {
   "cell_type": "markdown",
   "metadata": {},
   "source": [
    "# Slicing\n",
    "\n",
    "You can return a range of characters by using the slice syntax.\n",
    "\n",
    "Specify the start index and the end index, separated by a colon, to return a part of the string.\n",
    "\n",
    "Example:\n",
    "\n",
    "```python\n",
    "b = \"Hello, World!\"\n",
    "print(b[2:5])\n",
    "```\n",
    "\n",
    "Note: The first character has index 0.\n",
    "\n",
    "## Slice From the Start\n",
    "\n",
    "By leaving out the start index, the range will start at the first character:\n",
    "\n",
    "Example:\n",
    "\n",
    "Get the characters from the start to position 5 (not included):\n",
    "\n",
    "```python\n",
    "b = \"Hello, World!\"\n",
    "print(b[:5])\n",
    "```\n",
    "\n",
    "## Slice To the End\n",
    "\n",
    "By leaving out the end index, the range will go to the end:\n",
    "\n",
    "Example:\n",
    "\n",
    "Get the characters from position 2, and all the way to the end:\n",
    "\n",
    "```python\n",
    "b = \"Hello, World!\"\n",
    "print(b[2:])\n",
    "```\n",
    "\n",
    "## Negative Indexing\n",
    "\n",
    "Use negative indexes to start the slice from the end of the string:\n",
    "\n",
    "Example:\n",
    "\n",
    "Get the characters:\n",
    "\n",
    "From: \"o\" in \"World!\" (position -5)\n",
    "\n",
    "To, but not included: \"d\" in \"World!\" (position -2):\n",
    "\n",
    "```python\n",
    "b = \"Hello, World!\"\n",
    "print(b[-5:-2])\n",
    "```\n"
   ]
  },
  {
   "cell_type": "code",
   "execution_count": null,
   "metadata": {},
   "outputs": [],
   "source": []
  }
 ],
 "metadata": {
  "kernelspec": {
   "display_name": "Python 3",
   "name": "python3"
  },
  "language_info": {
   "codemirror_mode": {
    "name": "ipython",
    "version": 3
   },
   "file_extension": ".py",
   "mimetype": "text/x-python",
   "name": "python",
   "nbconvert_exporter": "python",
   "pygments_lexer": "ipython3",
   "version": "3.10.0"
  }
 },
 "nbformat": 4,
 "nbformat_minor": 5
}
