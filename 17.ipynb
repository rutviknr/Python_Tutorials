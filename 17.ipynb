{
 "cells": [
  {
   "cell_type": "markdown",
   "metadata": {},
   "source": [
    "# String Methods\n",
    "\n",
    "Python has a set of built-in methods that you can use on strings.\n",
    "\n",
    "**Note:** All string methods return new values. They do not change the original string.\n",
    "\n",
    "Method\t\t\tDescription\n",
    "---------\t\t-----------\n",
    "capitalize()\t\tConverts the first character to upper case\n",
    "casefold()\t\tConverts string into lower case\n",
    "center()\t\tReturns a centered string\n",
    "count()\t\tReturns the number of times a specified value occurs in a string\n",
    "encode()\t\tReturns an encoded version of the string\n",
    "endswith()\t\tReturns true if the string ends with the specified value\n",
    "expandtabs()\t\tSets the tab size of the string\n",
    "find()\t\t\tSearches the string for a specified value and returns the position of where it was found\n",
    "format()\t\tFormats specified values in a string\n",
    "format_map()\t\tFormats specified values in a string\n",
    "index()\t\t\tSearches the string for a specified value and returns the position of where it was found\n",
    "isalnum()\t\tReturns True if all characters in the string are alphanumeric\n",
    "isalpha()\t\tReturns True if all characters in the string are in the alphabet\n",
    "isdecimal()\t\tReturns True if all characters in the string are decimals\n",
    "isdigit()\t\tReturns True if all characters in the string are digits\n",
    "isidentifier()\t\tReturns True if the string is an identifier\n",
    "islower()\t\tReturns True if all characters in the string are lower case\n",
    "isnumeric()\t\tReturns True if all characters in the string are numeric\n",
    "isprintable()\t\tReturns True if all characters in the string are printable\n",
    "isspace()\t\tReturns True if all characters in the string are whitespaces\n",
    "istitle()\t\tReturns True if the string follows the rules of a title\n",
    "isupper()\t\tReturns True if all characters in the string are upper case\n",
    "join()\t\t\tJoins the elements of an iterable to the end of the string\n",
    "ljust()\t\tReturns a left justified version of the string\n",
    "lower()\t\t\tConverts a string into lower case\n",
    "lstrip()\t\tReturns a left trim version of the string\n",
    "maketrans()\t\tReturns a translation table to be used in translations\n",
    "partition()\t\tReturns a tuple where the string is parted into three parts\n",
    "replace()\t\tReturns a string where a specified value is replaced with a specified value\n",
    "rfind()\t\t\tSearches the string for a specified value and returns the last position of where it was found\n",
    "rindex()\t\tSearches the string for a specified value and returns the last position of where it was found\n",
    "rjust()\t\tReturns a right justified version of the string\n",
    "rpartition()\t\tReturns a tuple where the string is parted into three parts\n",
    "rsplit()\t\tSplits the string at the specified separator, and returns a list\n",
    "rstrip()\t\tReturns a right trim version of the string\n",
    "split()\t\t\tSplits the string at the specified separator, and returns a list\n",
    "splitlines()\t\tSplits the string at line breaks and returns a list\n",
    "startswith()\t\tReturns true if the string starts with the specified value\n",
    "strip()\t\t\tReturns a trimmed version of the string\n",
    "swapcase()\t\tSwaps cases, lower case becomes upper case and vice versa\n",
    "title()\t\t\tConverts the first character of each word to upper case\n",
    "translate()\t\tReturns a translated string\n",
    "upper()\t\t\tConverts a string into upper case\n",
    "zfill()\t\t\tFills the string with a specified number of 0 values at the beginning"
   ]
  },
  {
   "cell_type": "code",
   "execution_count": null,
   "metadata": {},
   "outputs": [],
   "source": []
  }
 ],
 "metadata": {
  "kernelspec": {
   "display_name": "Python 3",
   "name": "python3"
  },
  "language_info": {
   "codemirror_mode": {
    "name": "ipython",
    "version": 3
   },
   "file_extension": ".py",
   "mimetype": "text/x-python",
   "name": "python",
   "nbconvert_exporter": "python",
   "pygments_lexer": "ipython3",
   "version": "3.10.0"
  }
 },
 "nbformat": 4,
 "nbformat_minor": 5
}
