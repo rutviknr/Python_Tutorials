{
 "cells": [
  {
   "cell_type": "markdown",
   "metadata": {},
   "source": [
    "# Many Values to Multiple Variables\n",
    "\n",
    "Python allows you to assign values to multiple variables in one line:\n",
    "\n",
    "Example:\n",
    "\n",
    "```python\n",
    "x, y, z = \"Orange\", \"Banana\", \"Cherry\"\n",
    "print(x)\n",
    "print(y)\n",
    "print(z)\n",
    "```\n",
    "\n",
    "Note: Make sure the number of variables matches the number of values, or else you will get an error.\n",
    "\n",
    "## One Value to Multiple Variables\n",
    "\n",
    "You can also assign the same value to multiple variables in one line:\n",
    "\n",
    "Example:\n",
    "\n",
    "```python\n",
    "x = y = z = \"Orange\"\n",
    "print(x)\n",
    "print(y)\n",
    "print(z)\n",
    "```\n",
    "\n",
    "## Unpack a Collection\n",
    "\n",
    "If you have a collection of values in a list, tuple, etc., Python allows you to extract the values into variables. This is called unpacking.\n",
    "\n",
    "Example:\n",
    "\n",
    "Unpack a list:\n",
    "\n",
    "```python\n",
    "fruits = [\"apple\", \"banana\", \"cherry\"]\n",
    "x, y, z = fruits\n",
    "print(x)\n",
    "print(y)\n",
    "print(z)\n",
    "```"
   ]
  },
  {
   "cell_type": "code",
   "execution_count": null,
   "metadata": {},
   "outputs": [],
   "source": []
  }
 ],
 "metadata": {
  "kernelspec": {
   "display_name": "Python 3",
   "name": "python3"
  },
  "language_info": {
   "codemirror_mode": {
    "name": "ipython",
    "version": 3
   },
   "file_extension": ".py",
   "mimetype": "text/x-python",
   "name": "python",
   "nbconvert_exporter": "python",
   "pygments_lexer": "ipython3",
   "version": "3.10.0"
  }
 },
 "nbformat": 4,
 "nbformat_minor": 5
}
